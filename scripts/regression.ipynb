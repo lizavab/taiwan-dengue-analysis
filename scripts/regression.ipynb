{
 "cells": [
  {
   "cell_type": "code",
   "execution_count": null,
   "metadata": {},
   "outputs": [],
   "source": [
    "import numpy as np\n",
    "import pandas as pd\n",
    "import geopandas as gpd\n",
    "import statsmodels.api as sm\n",
    "import statsmodels.formula.api as smf\n",
    "import matplotlib.pyplot as plt\n",
    "import seaborn as sns"
   ]
  },
  {
   "cell_type": "code",
   "execution_count": null,
   "metadata": {},
   "outputs": [],
   "source": [
    "# Upload data\n",
    "tw = pd.read_csv('../data/data_gwr.csv')\n",
    "\n",
    "# Add population offset\n",
    "tw['log_pop'] = np.log(tw['total_pop'])\n",
    "\n",
    "variables = ['built_up_area', 'elevation']\n",
    "variable_names = ['Built-up area', 'Elevation']\n",
    "tw[variables].describe()"
   ]
  },
  {
   "cell_type": "code",
   "execution_count": null,
   "metadata": {},
   "outputs": [],
   "source": [
    "# Check the distribution of case counts\n",
    "plt.figure(figsize=(10, 6))\n",
    "sns.histplot(tw['case_count'], bins=40)\n",
    "plt.title('Distribution of dengue cases')\n",
    "plt.xlabel('Count')\n",
    "plt.ylabel('Frequency')"
   ]
  },
  {
   "cell_type": "code",
   "execution_count": null,
   "metadata": {},
   "outputs": [],
   "source": [
    "# Plot the relationships between dengue cases and non-climatic variables\n",
    "plt.figure(figsize=(12, 5))\n",
    "\n",
    "for i, variable in enumerate(variables):\n",
    "    plt.subplot(1, 2, i+1)\n",
    "    plt.scatter(tw[variable], tw['case_count'], alpha=.5)\n",
    "    plt.xlabel(variable_names[i]) \n",
    "    plt.ylabel('Case count')\n",
    "    plt.tight_layout()"
   ]
  },
  {
   "cell_type": "code",
   "execution_count": null,
   "metadata": {},
   "outputs": [],
   "source": [
    "# Check for overdispersion\n",
    "mean_count = tw['case_count'].mean()\n",
    "var_count = tw['case_count'].var()\n",
    "dispersion = var_count / mean_count\n",
    "\n",
    "print(f\"Mean: {mean_count:.2f}\")\n",
    "print(f\"Variance: {var_count:.2f}\")\n",
    "print(f\"Dispersion ratio (variance/mean): {dispersion:.2f}\")"
   ]
  },
  {
   "cell_type": "code",
   "execution_count": null,
   "metadata": {},
   "outputs": [],
   "source": [
    "# Define formula with non-climatic factors\n",
    "nc_formula = \"case_count ~ built_up_area + elevation\"\n",
    "\n",
    "# Model 1: Basic model\n",
    "nbi_model = smf.glm(\n",
    "    formula=nc_formula, \n",
    "    data=tw,\n",
    "    family=sm.families.NegativeBinomial()\n",
    ")\n",
    "results1 = nbi_model.fit()\n",
    "print(\"\\nNegative Binomial Model Results (without offset):\")\n",
    "print(results1.summary())\n",
    "\n",
    "# Model 2: With population offset \n",
    "nbi_model_pop = smf.glm(\n",
    "    formula=nc_formula, \n",
    "    data=tw,\n",
    "    family=sm.families.NegativeBinomial(),\n",
    "    offset=tw['log_pop']\n",
    ")\n",
    "results2 = nbi_model_pop.fit()\n",
    "print(\"\\nNegative Binomial Model Results (with population offset):\")\n",
    "print(results2.summary())"
   ]
  },
  {
   "cell_type": "raw",
   "metadata": {
    "vscode": {
     "languageId": "raw"
    }
   },
   "source": [
    "#\"case_count ~ built_up_area + elevation + tavg + tmax + tmin + wind_speed + precip\""
   ]
  },
  {
   "cell_type": "raw",
   "metadata": {
    "vscode": {
     "languageId": "raw"
    }
   },
   "source": [
    "# Calculate exponentiated coefficients (IRR)\n",
    "print(\"\\nIncidence Rate Ratios (IRR):\")\n",
    "irr = np.exp(results1.params)\n",
    "irr_conf = np.exp(results1.conf_int())\n",
    "irr_results1 = pd.DataFrame({\n",
    "    'IRR': irr,\n",
    "    '2.5%': irr_conf[0],\n",
    "    '97.5%': irr_conf[1]\n",
    "})\n",
    "print(irr_results1)"
   ]
  },
  {
   "cell_type": "code",
   "execution_count": null,
   "metadata": {},
   "outputs": [],
   "source": [
    "# Examine residuals for model diagnostics\n",
    "results = [results1, results2]\n",
    "model_names = ['Negative Binomial Model (without offset)', 'Negative Binomial Model (with population offset)']\n",
    "\n",
    "for i, result in enumerate(results):\n",
    "    f, ax = plt.subplots(1, 4, figsize=(20, 5))\n",
    "\n",
    "    # Generate predicted values\n",
    "    tw['predicted'] = result.predict()\n",
    "\n",
    "    # Residuals\n",
    "    ax[0].scatter(tw['predicted'], tw['case_count'] - tw['predicted'], alpha=.5)\n",
    "    ax[0].axhline(y=0, color='r', linestyle='-')\n",
    "    ax[0].set_title('Residuals vs Predicted')\n",
    "    ax[0].set_xlabel('Predicted values')\n",
    "    ax[0].set_ylabel('Residuals')\n",
    "\n",
    "    # Actual vs predicted\n",
    "    ax[1].scatter(tw['case_count'], tw['predicted'], alpha=.5)\n",
    "    max_val = max(tw['case_count'].max(), tw['predicted'].max())\n",
    "    ax[1].plot([0, max_val], [0, max_val], 'r--')\n",
    "    ax[1].set_title('Predicted vs Actual values')\n",
    "    ax[1].set_xlabel('Actual values')\n",
    "    ax[1].set_ylabel('Predicted values')\n",
    "\n",
    "    # Q-Q plot\n",
    "    sm.qqplot(tw['case_count'] - tw['predicted'], line='45', ax=ax[2], alpha=.5)\n",
    "    ax[2].set_title('Q-Q plot of residuals')\n",
    "\n",
    "    # Histogram of residuals\n",
    "    ax[3].hist(tw['case_count'] - tw['predicted'], bins=20)\n",
    "    ax[3].set_title('Histogram of residuals')\n",
    "    ax[3].set_xlabel('Residuals')\n",
    "\n",
    "    plt.suptitle(f\"Diagnostics for {model_names[i]}\", fontsize=16)\n",
    "    plt.tight_layout()"
   ]
  }
 ],
 "metadata": {
  "kernelspec": {
   "display_name": "dengue-data-exploration",
   "language": "python",
   "name": "python3"
  },
  "language_info": {
   "codemirror_mode": {
    "name": "ipython",
    "version": 3
   },
   "file_extension": ".py",
   "mimetype": "text/x-python",
   "name": "python",
   "nbconvert_exporter": "python",
   "pygments_lexer": "ipython3",
   "version": "3.11.11"
  }
 },
 "nbformat": 4,
 "nbformat_minor": 2
}
