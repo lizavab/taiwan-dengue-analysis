{
 "cells": [
  {
   "cell_type": "code",
   "execution_count": null,
   "metadata": {},
   "outputs": [],
   "source": [
    "import pandas as pd\n",
    "import matplotlib.pyplot as plt\n",
    "import numpy as np\n",
    "import seaborn as sns\n",
    "import matplotlib.dates as mdates\n",
    "from datetime import datetime\n",
    "import statsmodels.api as sm\n",
    "import statsmodels.formula.api as smf"
   ]
  },
  {
   "cell_type": "code",
   "execution_count": null,
   "metadata": {},
   "outputs": [],
   "source": [
    "# Upload data\n",
    "df = pd.read_csv('../data/data_2011_2024.csv')\n",
    "#df.info()"
   ]
  },
  {
   "cell_type": "code",
   "execution_count": null,
   "metadata": {},
   "outputs": [],
   "source": [
    "# Create a datetime column for plotting\n",
    "df['date'] = pd.to_datetime(df[['year', 'month']].assign(day=1))"
   ]
  },
  {
   "cell_type": "code",
   "execution_count": null,
   "metadata": {},
   "outputs": [],
   "source": [
    "# Plot time series of climate variables and dengue cases\n",
    "f, ax = plt.subplots(5, 1, figsize=(10, 10), sharex=True)\n",
    "ax = ax.flatten()\n",
    "\n",
    "cvariables = ['tavg', 'tmax', 'tmin', 'wind_speed', 'precip']\n",
    "titles = ['Average Temperature', 'Maximum Temperature', 'Minimum Temperature', 'Wind Speed', 'Precipitation']\n",
    "units = ['°C', '°C', '°C', 'm/s', 'mm']\n",
    "\n",
    "for i, variable in enumerate(cvariables):\n",
    "    # For each county, get the mean value of the variable for each date\n",
    "    county_means = df.groupby(['date', 'county'])[variable].mean().reset_index()\n",
    "    \n",
    "    # Create a pivot table with dates as index and counties as columns\n",
    "    pivot_data = county_means.pivot(index='date', columns='county', values=variable)\n",
    "    \n",
    "    # Plot each county as a separate line\n",
    "    pivot_data.plot(ax=ax[i], legend=False, alpha=0.3, linewidth=0.5)\n",
    "    \n",
    "    # Plot the overall mean as a thicker line\n",
    "    overall_mean = df.groupby('date')[variable].mean()\n",
    "    overall_mean.plot(ax=ax[i], color='black', linewidth=1)\n",
    "    \n",
    "    ax[i].set_title(titles[i]+' ('+units[i]+')', fontsize=10)\n",
    "\n",
    "# Add a common legend for the first plot\n",
    "handles, labels = ax[0].get_legend_handles_labels()\n",
    "f.legend(handles[:1] + [handles[-1]], ['Individual counties', 'Overall mean'], loc='upper right', ncol=2)\n",
    "\n",
    "# Set x-axis labels to show all years\n",
    "unique_years = sorted(df['year'].unique())\n",
    "unique_years = [year for year in unique_years if year != 2011]  # Exclude 2011\n",
    "ax[-1].set_xticks(pd.to_datetime([f'{year}-01-01' for year in unique_years]))\n",
    "ax[-1].set_xticklabels(unique_years)\n",
    "\n",
    "plt.tight_layout()"
   ]
  },
  {
   "cell_type": "code",
   "execution_count": null,
   "metadata": {},
   "outputs": [],
   "source": [
    "# Create df with climate variables and case counts aggregated by month\n",
    "ts = pd.DataFrame()\n",
    "for var in ['case_count', 'tavg', 'tmax', 'tmin', 'wind_speed', 'precip']:\n",
    "    # Summarise cases\n",
    "    if var == 'case_count':\n",
    "        ts[var] = df.groupby('date')[var].sum()\n",
    "    # Mean of climatic variables\n",
    "    else:\n",
    "        ts[var] = df.groupby('date')[var].mean()\n",
    "\n",
    "f, ax1 = plt.subplots(figsize=(15, 5))\n",
    "line1 = ts['tavg'].plot(color='purple', ax=ax1, label='Average Temperature')\n",
    "line2 = ts['tmax'].plot(color='red', ax=ax1, label='Maximum Temperature')\n",
    "line3 = ts['tmin'].plot(color='lightblue', ax=ax1, label='Minimum Temperature')\n",
    "\n",
    "ax2 = ax1.twinx()\n",
    "line4 = ts['precip'].plot(color='darkblue', ax=ax2, label='Precipitation')\n",
    "\n",
    "# Combine legends from both axes\n",
    "lines1, labels1 = ax1.get_legend_handles_labels()\n",
    "lines2, labels2 = ax2.get_legend_handles_labels()\n",
    "ax1.legend(lines1 + lines2, labels1 + labels2, loc='upper right')\n",
    "\n",
    "# Set labels for both y-axes\n",
    "ax1.set_ylabel('Temperature')\n",
    "ax2.set_ylabel('Precipitation')\n",
    "ax1.set_xlabel('Date')\n",
    "\n",
    "plt.tight_layout()"
   ]
  },
  {
   "cell_type": "raw",
   "metadata": {
    "vscode": {
     "languageId": "raw"
    }
   },
   "source": [
    "ts_short = ts[ts.index.year == 2023]\n",
    "\n",
    "plt.figure(figsize=(15, 5))\n",
    "ts_short['tavg\"].plot(color = \"purple\")\n",
    "ts_short[\"tmax\"].plot(color = \"red\")\n",
    "ts_short[\"tmin\"].plot(color = \"blue\")\n",
    "#ts_short[\"precip\"].plot(color = \"darkblue\")\n",
    "#ts_short[\"case_count\"].plot(color = \"orange\")"
   ]
  },
  {
   "cell_type": "code",
   "execution_count": null,
   "metadata": {},
   "outputs": [],
   "source": [
    "ts.corr(method='spearman')"
   ]
  },
  {
   "cell_type": "code",
   "execution_count": null,
   "metadata": {},
   "outputs": [],
   "source": [
    "# Create correlation matrix\n",
    "plt.figure(figsize=(8, 6))\n",
    "corr_matrix = ts.corr(method='spearman')\n",
    "sns.heatmap(corr_matrix, annot=True, cmap='coolwarm', vmin=-1, vmax=1)\n",
    "plt.title('Correlation Between Variables (Monthly Averages)')\n",
    "plt.tight_layout()"
   ]
  },
  {
   "cell_type": "code",
   "execution_count": null,
   "metadata": {},
   "outputs": [],
   "source": [
    "# Calculate lag for each climate variable\n",
    "for i in range(5):\n",
    "    for lag in range(6):\n",
    "        ts[f'{cvariables[i]}_lag{lag+1}'] = ts[cvariables[i]].shift(periods=lag+1)"
   ]
  },
  {
   "cell_type": "code",
   "execution_count": null,
   "metadata": {},
   "outputs": [],
   "source": [
    "variables_tavg = ['case_count', 'tavg', 'tavg_lag1', 'tavg_lag2', 'tavg_lag3', 'tavg_lag4', 'tavg_lag5', 'tavg_lag6']\n",
    "# Create correlation matrix\n",
    "plt.figure(figsize=(10, 8))\n",
    "corr_matrix = ts[variables_tavg].corr(method='spearman')\n",
    "sns.heatmap(corr_matrix, annot=True, cmap='coolwarm', vmin=-1, vmax=1)\n",
    "plt.title('Correlation Between Variables (Monthly Averages)')\n",
    "plt.tight_layout()"
   ]
  },
  {
   "cell_type": "code",
   "execution_count": null,
   "metadata": {},
   "outputs": [],
   "source": [
    "# Exclude 2011 after calculating lag\n",
    "ts = ts[ts.index.year != 2011]\n",
    "\n",
    "# Prepare formulas\n",
    "c_formula = \"case_count ~ tavg + tmax + tmin + wind_speed + precip\"\n",
    "c_formula_lag1 = \"case_count ~ tavg_lag1 + tmax_lag1 + tmin_lag1 + wind_speed_lag1 + precip_lag1\"\n",
    "c_formula_lag2 = \"case_count ~ tavg_lag2 + tmax_lag2 + tmin_lag2 + wind_speed_lag2 + precip_lag2\"\n",
    "\n",
    "# Model 1: Basic model\n",
    "nbi_model = smf.glm(\n",
    "    formula=c_formula, \n",
    "    data=ts,\n",
    "    family=sm.families.NegativeBinomial()\n",
    ")\n",
    "results1 = nbi_model.fit()\n",
    "print(\"\\nNegative Binomial Model Results (without lag):\")\n",
    "print(results1.summary())\n",
    "\n",
    "# Model 2: Basic model + lag1\n",
    "nbi_model = smf.glm(\n",
    "    formula=c_formula_lag1, \n",
    "    data=ts,\n",
    "    family=sm.families.NegativeBinomial()\n",
    ")\n",
    "results2 = nbi_model.fit()\n",
    "print(\"\\nNegative Binomial Model Results (with 1-month lag):\")\n",
    "print(results2.summary())\n",
    "\n",
    "# Model 3: Basic model + lag2\n",
    "nbi_model = smf.glm(\n",
    "    formula=c_formula_lag2, \n",
    "    data=ts,\n",
    "    family=sm.families.NegativeBinomial()\n",
    ")\n",
    "results3 = nbi_model.fit()\n",
    "print(\"\\nNegative Binomial Model Results (with 2-month lag):\")\n",
    "print(results3.summary())"
   ]
  },
  {
   "cell_type": "code",
   "execution_count": null,
   "metadata": {},
   "outputs": [],
   "source": [
    "# Examine residuals for model diagnostics\n",
    "results = [results1, results2, results3]\n",
    "model_names = ['Negative Binomial Model (without lag)', 'Negative Binomial Model (with 1-month lag)', 'Negative Binomial Model (with 2-month lag)']\n",
    "\n",
    "for i, result in enumerate(results):\n",
    "    f, ax = plt.subplots(1, 4, figsize=(20, 5))\n",
    "\n",
    "    # Generate predicted values\n",
    "    ts['predicted'] = result.predict()\n",
    "\n",
    "    # Residuals\n",
    "    ax[0].scatter(ts['predicted'], ts['case_count'] - ts['predicted'], alpha=.5)\n",
    "    ax[0].axhline(y=0, color='r', linestyle='-')\n",
    "    ax[0].set_title('Residuals vs Predicted')\n",
    "    ax[0].set_xlabel('Predicted values')\n",
    "    ax[0].set_ylabel('Residuals')\n",
    "\n",
    "    # Actual vs predicted\n",
    "    ax[1].scatter(ts['case_count'], ts['predicted'], alpha=.5)\n",
    "    max_val = max(ts['case_count'].max(), ts['predicted'].max())\n",
    "    ax[1].plot([0, max_val], [0, max_val], 'r--')\n",
    "    ax[1].set_title('Predicted vs Actual values')\n",
    "    ax[1].set_xlabel('Actual values')\n",
    "    ax[1].set_ylabel('Predicted values')\n",
    "\n",
    "    # Q-Q plot\n",
    "    sm.qqplot(ts['case_count'] - ts['predicted'], line='45', ax=ax[2], alpha=.5)\n",
    "    ax[2].set_title('Q-Q plot of residuals')\n",
    "\n",
    "    # Histogram of residuals\n",
    "    ax[3].hist(ts['case_count'] - ts['predicted'], bins=20)\n",
    "    ax[3].set_title('Histogram of residuals')\n",
    "    ax[3].set_xlabel('Residuals')\n",
    "\n",
    "    plt.suptitle(f\"Diagnostics for {model_names[i]}\", fontsize=16)\n",
    "    plt.tight_layout()"
   ]
  }
 ],
 "metadata": {
  "kernelspec": {
   "display_name": "dengue-data-exploration",
   "language": "python",
   "name": "python3"
  },
  "language_info": {
   "codemirror_mode": {
    "name": "ipython",
    "version": 3
   },
   "file_extension": ".py",
   "mimetype": "text/x-python",
   "name": "python",
   "nbconvert_exporter": "python",
   "pygments_lexer": "ipython3",
   "version": "3.11.11"
  }
 },
 "nbformat": 4,
 "nbformat_minor": 2
}
