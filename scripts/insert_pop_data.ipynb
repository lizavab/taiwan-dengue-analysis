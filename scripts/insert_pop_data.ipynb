{
 "cells": [
  {
   "cell_type": "markdown",
   "metadata": {},
   "source": [
    "This script inserts population data from 2020 census (National Statistics) into townships and counties in PostgreSQL."
   ]
  },
  {
   "cell_type": "code",
   "execution_count": 1,
   "metadata": {},
   "outputs": [],
   "source": [
    "import pandas as pd\n",
    "from sqlalchemy import create_engine\n",
    "from sqlalchemy import text"
   ]
  },
  {
   "cell_type": "code",
   "execution_count": 2,
   "metadata": {},
   "outputs": [],
   "source": [
    "# Create a SQLAlchemy engine\n",
    "conn_string = \"postgresql://lizavabistsevits:@localhost:5432/taiwan\" # database connection string\n",
    "engine = create_engine(conn_string)"
   ]
  },
  {
   "cell_type": "code",
   "execution_count": 3,
   "metadata": {},
   "outputs": [
    {
     "data": {
      "text/html": [
       "<div>\n",
       "<style scoped>\n",
       "    .dataframe tbody tr th:only-of-type {\n",
       "        vertical-align: middle;\n",
       "    }\n",
       "\n",
       "    .dataframe tbody tr th {\n",
       "        vertical-align: top;\n",
       "    }\n",
       "\n",
       "    .dataframe thead th {\n",
       "        text-align: right;\n",
       "    }\n",
       "</style>\n",
       "<table border=\"1\" class=\"dataframe\">\n",
       "  <thead>\n",
       "    <tr style=\"text-align: right;\">\n",
       "      <th></th>\n",
       "      <th>縣市別</th>\n",
       "      <th>鄉鎮別</th>\n",
       "      <th>15-64歲</th>\n",
       "      <th>65歲以上</th>\n",
       "      <th>常住人口數</th>\n",
       "      <th>常住人口數 （複製）</th>\n",
       "      <th>未滿15歲</th>\n",
       "    </tr>\n",
       "  </thead>\n",
       "  <tbody>\n",
       "    <tr>\n",
       "      <th>0</th>\n",
       "      <td>宜蘭縣</td>\n",
       "      <td>三星鄉</td>\n",
       "      <td>20048</td>\n",
       "      <td>4119</td>\n",
       "      <td>26466</td>\n",
       "      <td>26466</td>\n",
       "      <td>2299</td>\n",
       "    </tr>\n",
       "    <tr>\n",
       "      <th>1</th>\n",
       "      <td>宜蘭縣</td>\n",
       "      <td>大同鄉</td>\n",
       "      <td>2623</td>\n",
       "      <td>506</td>\n",
       "      <td>3999</td>\n",
       "      <td>3999</td>\n",
       "      <td>870</td>\n",
       "    </tr>\n",
       "    <tr>\n",
       "      <th>2</th>\n",
       "      <td>宜蘭縣</td>\n",
       "      <td>五結鄉</td>\n",
       "      <td>27137</td>\n",
       "      <td>6370</td>\n",
       "      <td>39141</td>\n",
       "      <td>39141</td>\n",
       "      <td>5634</td>\n",
       "    </tr>\n",
       "    <tr>\n",
       "      <th>3</th>\n",
       "      <td>宜蘭縣</td>\n",
       "      <td>冬山鄉</td>\n",
       "      <td>36063</td>\n",
       "      <td>8753</td>\n",
       "      <td>52046</td>\n",
       "      <td>52046</td>\n",
       "      <td>7230</td>\n",
       "    </tr>\n",
       "    <tr>\n",
       "      <th>4</th>\n",
       "      <td>宜蘭縣</td>\n",
       "      <td>壯圍鄉</td>\n",
       "      <td>15553</td>\n",
       "      <td>3631</td>\n",
       "      <td>22172</td>\n",
       "      <td>22172</td>\n",
       "      <td>2988</td>\n",
       "    </tr>\n",
       "  </tbody>\n",
       "</table>\n",
       "</div>"
      ],
      "text/plain": [
       "   縣市別  鄉鎮別  15-64歲  65歲以上   常住人口數  常住人口數 （複製）  未滿15歲\n",
       "0  宜蘭縣  三星鄉   20048    4119  26466       26466   2299\n",
       "1  宜蘭縣  大同鄉    2623     506   3999        3999    870\n",
       "2  宜蘭縣  五結鄉   27137    6370  39141       39141   5634\n",
       "3  宜蘭縣  冬山鄉   36063    8753  52046       52046   7230\n",
       "4  宜蘭縣  壯圍鄉   15553    3631  22172       22172   2988"
      ]
     },
     "execution_count": 3,
     "metadata": {},
     "output_type": "execute_result"
    }
   ],
   "source": [
    "pop_townships = pd.read_csv('../data/population/各鄉鎮市區常住人口分布.csv', delimiter='\t', encoding='utf-16', thousands=',') # remove commas from figures\n",
    "pop_townships.head()"
   ]
  },
  {
   "cell_type": "code",
   "execution_count": 4,
   "metadata": {},
   "outputs": [
    {
     "data": {
      "text/html": [
       "<div>\n",
       "<style scoped>\n",
       "    .dataframe tbody tr th:only-of-type {\n",
       "        vertical-align: middle;\n",
       "    }\n",
       "\n",
       "    .dataframe tbody tr th {\n",
       "        vertical-align: top;\n",
       "    }\n",
       "\n",
       "    .dataframe thead th {\n",
       "        text-align: right;\n",
       "    }\n",
       "</style>\n",
       "<table border=\"1\" class=\"dataframe\">\n",
       "  <thead>\n",
       "    <tr style=\"text-align: right;\">\n",
       "      <th></th>\n",
       "      <th>縣市別</th>\n",
       "      <th>Unnamed: 1</th>\n",
       "    </tr>\n",
       "  </thead>\n",
       "  <tbody>\n",
       "    <tr>\n",
       "      <th>0</th>\n",
       "      <td>宜蘭縣</td>\n",
       "      <td>433319</td>\n",
       "    </tr>\n",
       "    <tr>\n",
       "      <th>1</th>\n",
       "      <td>花蓮縣</td>\n",
       "      <td>300406</td>\n",
       "    </tr>\n",
       "    <tr>\n",
       "      <th>2</th>\n",
       "      <td>金門縣</td>\n",
       "      <td>67173</td>\n",
       "    </tr>\n",
       "    <tr>\n",
       "      <th>3</th>\n",
       "      <td>南投縣</td>\n",
       "      <td>430211</td>\n",
       "    </tr>\n",
       "    <tr>\n",
       "      <th>4</th>\n",
       "      <td>屏東縣</td>\n",
       "      <td>755047</td>\n",
       "    </tr>\n",
       "  </tbody>\n",
       "</table>\n",
       "</div>"
      ],
      "text/plain": [
       "   縣市別  Unnamed: 1\n",
       "0  宜蘭縣      433319\n",
       "1  花蓮縣      300406\n",
       "2  金門縣       67173\n",
       "3  南投縣      430211\n",
       "4  屏東縣      755047"
      ]
     },
     "execution_count": 4,
     "metadata": {},
     "output_type": "execute_result"
    }
   ],
   "source": [
    "pop_counties = pd.read_csv('../data/population/各縣市常住人口分布.csv', delimiter='\t', encoding='utf-16', thousands=',')\n",
    "pop_counties.head()"
   ]
  },
  {
   "cell_type": "code",
   "execution_count": 5,
   "metadata": {},
   "outputs": [],
   "source": [
    "# Insert population into townships table\n",
    "# Some townships have the same name (e.g. East District), so the population data is connected based on both native township and county names\n",
    "with engine.begin() as connection:\n",
    "    for index, row in pop_townships.iterrows():\n",
    "        query = text(\"\"\"\n",
    "            UPDATE townships t\n",
    "            SET total_pop = :pop_value \n",
    "            FROM counties c \n",
    "            WHERE c.code = t.county \n",
    "            AND t.orig_name = :township_name\n",
    "            AND c.orig_name = :county_name\n",
    "        \"\"\")\n",
    "        connection.execute(query, {\"pop_value\": row['常住人口數'], \"township_name\": row['鄉鎮別'], \"county_name\": row['縣市別']})"
   ]
  },
  {
   "cell_type": "code",
   "execution_count": 6,
   "metadata": {},
   "outputs": [],
   "source": [
    "# Insert population into counties table based on native county name\n",
    "with engine.begin() as connection:\n",
    "    for index, row in pop_counties.iterrows():\n",
    "        query = text(\"\"\"\n",
    "            UPDATE counties\n",
    "            SET total_pop = :pop_value \n",
    "            WHERE orig_name = :county_name\n",
    "        \"\"\")\n",
    "        connection.execute(query, {\"pop_value\": row['Unnamed: 1'], \"county_name\": row['縣市別']})"
   ]
  }
 ],
 "metadata": {
  "kernelspec": {
   "display_name": "dengue-data-exploration",
   "language": "python",
   "name": "python3"
  },
  "language_info": {
   "codemirror_mode": {
    "name": "ipython",
    "version": 3
   },
   "file_extension": ".py",
   "mimetype": "text/x-python",
   "name": "python",
   "nbconvert_exporter": "python",
   "pygments_lexer": "ipython3",
   "version": "3.11.11"
  }
 },
 "nbformat": 4,
 "nbformat_minor": 2
}
