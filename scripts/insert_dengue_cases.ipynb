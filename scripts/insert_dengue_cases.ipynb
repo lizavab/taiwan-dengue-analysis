{
 "cells": [
  {
   "cell_type": "code",
   "execution_count": 1,
   "metadata": {},
   "outputs": [],
   "source": [
    "import csv\n",
    "import psycopg2"
   ]
  },
  {
   "cell_type": "code",
   "execution_count": 2,
   "metadata": {},
   "outputs": [],
   "source": [
    "csv_file = \"../data/Dengue_Daily_EN_aligned.csv\" \n",
    "table_name = \"dengue_cases\"\n",
    "conn_string = \"postgresql://lizavabistsevits:@localhost:5432/taiwan\" # database connection string\n",
    "\n",
    "column_names = {\n",
    "    \"Date_Onset\": \"date_onset\",\n",
    "    \"Date_Confirmation\" : \"date_confirmation\",\n",
    "    \"Date_Notification\": \"date_notification\",\n",
    "    \"Sex\": \"sex\",\n",
    "    \"Age_Group\": \"age_group\",\n",
    "\t\"Imported\" : \"imported\",\n",
    "\t\"Country_infected\" : \"country_infected\",\n",
    "\t\"Number_of_confirmed_cases\" : \"confirmed_cases\",\n",
    "    \"Serotype\" : \"serotype\",\n",
    "\t\"MOI_Township_living_Code\" : \"township_living\",\n",
    "\t\"MOI_Township_infected_Code\" : \"township_infected\"\n",
    "}"
   ]
  },
  {
   "cell_type": "code",
   "execution_count": 3,
   "metadata": {},
   "outputs": [
    {
     "name": "stdout",
     "output_type": "stream",
     "text": [
      "Data from ../data/Dengue_Daily_EN_aligned.csv successfully inserted to dengue_cases table.\n"
     ]
    }
   ],
   "source": [
    "# Connect to database\n",
    "with psycopg2.connect(conn_string) as conn:\n",
    "    with conn.cursor() as cursor:      \n",
    "        \n",
    "        with open(csv_file, 'r') as file:\n",
    "            csv_reader = csv.DictReader(file)\n",
    "            \n",
    "            # Insert data row by row\n",
    "            for row in csv_reader:\n",
    "                # Prepare column names and values for the specific columns\n",
    "                columns = []\n",
    "                values = []\n",
    "                \n",
    "                for csv_col, db_col in column_names.items():\n",
    "                    if csv_col in row:\n",
    "                        columns.append(db_col)\n",
    "                        # Convert empty and None strings to NULL\n",
    "                        if row[csv_col] == \"\" or row[csv_col] == 'None':\n",
    "                            values.append(None)\n",
    "                        else:\n",
    "                            values.append(row[csv_col])\n",
    "                \n",
    "                # Create the INSERT query string with the specified columns\n",
    "                columns_joined = \", \".join(columns)\n",
    "                placeholders = \", \".join([\"%s\"] * len(values))\n",
    "                insert_query = f\"INSERT INTO {table_name} ({columns_joined}) VALUES ({placeholders});\"\n",
    "                \n",
    "                # Execute the query\n",
    "                cursor.execute(insert_query, values)\n",
    "        \n",
    "        # Commit changes\n",
    "        conn.commit()\n",
    "\n",
    "print(f\"Data from {csv_file} successfully inserted to {table_name} table.\")"
   ]
  }
 ],
 "metadata": {
  "kernelspec": {
   "display_name": "dengue-data-exploration",
   "language": "python",
   "name": "python3"
  },
  "language_info": {
   "codemirror_mode": {
    "name": "ipython",
    "version": 3
   },
   "file_extension": ".py",
   "mimetype": "text/x-python",
   "name": "python",
   "nbconvert_exporter": "python",
   "pygments_lexer": "ipython3",
   "version": "3.11.11"
  }
 },
 "nbformat": 4,
 "nbformat_minor": 2
}
