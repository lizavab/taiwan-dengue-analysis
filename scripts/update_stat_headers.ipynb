{
 "cells": [
  {
   "cell_type": "markdown",
   "metadata": {},
   "source": [
    "This script takes the original station list CSV, adds the English headers and saves as a new CSV."
   ]
  },
  {
   "cell_type": "code",
   "execution_count": 1,
   "metadata": {},
   "outputs": [],
   "source": [
    "import csv"
   ]
  },
  {
   "cell_type": "code",
   "execution_count": 2,
   "metadata": {},
   "outputs": [],
   "source": [
    "input_csv = \"../data/weather_station_list/data/weather_sta_list.csv\" \n",
    "output_csv = \"../data/weather_station_list/data/weather_sta_list_ENG.csv\"\n",
    "\n",
    "eng_headers = [\n",
    "    '', \n",
    "    'Code', \n",
    "    'Original_Name', \n",
    "    'Type', \n",
    "    'Altitude', \n",
    "    'Longitude', \n",
    "    'Latitude', \n",
    "    'City', \n",
    "    'Address', \n",
    "    'Data_Start_Date', \n",
    "    'Data_End_Date', \n",
    "    'Comment', \n",
    "    'Original_Code', \n",
    "    'Updated_Code', \n",
    "    'Name'\n",
    "]"
   ]
  },
  {
   "cell_type": "code",
   "execution_count": 3,
   "metadata": {},
   "outputs": [
    {
     "name": "stdout",
     "output_type": "stream",
     "text": [
      "CSV file saved to ../data/weather_station_list/data/weather_sta_list_ENG.csv\n"
     ]
    }
   ],
   "source": [
    "with open(input_csv, 'r') as infile, \\\n",
    "    open(output_csv, 'w', newline='') as outfile:\n",
    "\n",
    "    reader = csv.reader(infile)\n",
    "    writer = csv.writer(outfile)\n",
    "\n",
    "    # Add the English headers \n",
    "    writer.writerow(eng_headers)\n",
    "\n",
    "    # Skip the original headers\n",
    "    next(reader) \n",
    "\n",
    "    # Copy the rest of the data rows\n",
    "    for row in reader:\n",
    "        writer.writerow(row)\n",
    "\n",
    "\n",
    "print(f\"CSV file saved to {output_csv}\")"
   ]
  }
 ],
 "metadata": {
  "kernelspec": {
   "display_name": "dengue-data-exploration",
   "language": "python",
   "name": "python3"
  },
  "language_info": {
   "codemirror_mode": {
    "name": "ipython",
    "version": 3
   },
   "file_extension": ".py",
   "mimetype": "text/x-python",
   "name": "python",
   "nbconvert_exporter": "python",
   "pygments_lexer": "ipython3",
   "version": "3.11.11"
  }
 },
 "nbformat": 4,
 "nbformat_minor": 2
}
