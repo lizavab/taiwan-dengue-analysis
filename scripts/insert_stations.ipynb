{
 "cells": [
  {
   "cell_type": "markdown",
   "metadata": {},
   "source": [
    "Script for inserting weather station list to the database."
   ]
  },
  {
   "cell_type": "code",
   "execution_count": 1,
   "metadata": {},
   "outputs": [],
   "source": [
    "import csv\n",
    "import psycopg2"
   ]
  },
  {
   "cell_type": "code",
   "execution_count": 2,
   "metadata": {},
   "outputs": [],
   "source": [
    "csv_file = \"../data/weather_station_list/data/weather_sta_list_ENG.csv\" \n",
    "table_name = \"stations\"\n",
    "conn_string = \"postgresql://lizavabistsevits:@localhost:5432/taiwan\" # database connection string\n",
    "\n",
    "column_names = {\n",
    "    \"Code\": \"code\",\n",
    "    \"Name\": \"name\",\n",
    "    \"Original_Name\" : \"orig_name\",\n",
    "    \"Type\": \"type\",\n",
    "    \"Latitude\": \"latitude\",\n",
    "    \"Longitude\": \"longitude\",\n",
    "\t\"Altitude\" : \"altitude\",\n",
    "\t\"Data_Start_Date\" : \"data_start_date\",\n",
    "\t\"Data_End_Date\" : \"data_end_date\"\n",
    "}"
   ]
  },
  {
   "cell_type": "code",
   "execution_count": 3,
   "metadata": {},
   "outputs": [
    {
     "data": {
      "text/plain": [
       "\"\\nwith open(csv_file, 'r') as file:\\n    csv_reader = csv.DictReader(file)\\n    \\n    # Create dictionary for each row\\n    for row in csv_reader:\\n        print(row)\\n\""
      ]
     },
     "execution_count": 3,
     "metadata": {},
     "output_type": "execute_result"
    }
   ],
   "source": [
    "\"\"\"\n",
    "with open(csv_file, 'r') as file:\n",
    "    csv_reader = csv.DictReader(file)\n",
    "    \n",
    "    # Create dictionary for each row\n",
    "    for row in csv_reader:\n",
    "        print(row)\n",
    "\"\"\"\n"
   ]
  },
  {
   "cell_type": "code",
   "execution_count": 4,
   "metadata": {},
   "outputs": [
    {
     "name": "stdout",
     "output_type": "stream",
     "text": [
      "Data from ../data/weather_station_list/data/weather_sta_list_ENG.csv successfully inserted to stations table.\n",
      "Processed 1155 unique stations and skipped 80 duplicates.\n"
     ]
    }
   ],
   "source": [
    "# Connect to database\n",
    "with psycopg2.connect(conn_string) as conn:\n",
    "    with conn.cursor() as cursor:\n",
    "\n",
    "        # Create a set to record processed station codes\n",
    "        processed_codes = set()\n",
    "        duplicates = 0\n",
    "        \n",
    "        with open(csv_file, 'r') as file:\n",
    "            csv_reader = csv.DictReader(file)\n",
    "            \n",
    "            # Insert data row by row\n",
    "            for row in csv_reader:\n",
    "                # Check for duplicate station codes\n",
    "                code_value = row[\"Code\"]\n",
    "                if code_value in processed_codes:\n",
    "                    duplicates += 1\n",
    "                    continue\n",
    "                # Add to the tracking set\n",
    "                processed_codes.add(code_value)\n",
    "                \n",
    "                # Prepare column names and values for the specific columns\n",
    "                columns = []\n",
    "                values = []\n",
    "                \n",
    "                for csv_col, db_col in column_names.items():\n",
    "                    if csv_col in row:\n",
    "                        columns.append(db_col)\n",
    "                        # Convert empty strings to NULL\n",
    "                        if row[csv_col] == \"\":\n",
    "                            values.append(None)\n",
    "                        else:\n",
    "                            values.append(row[csv_col])\n",
    "                \n",
    "                # Create the INSERT query string with the specified columns\n",
    "                columns_joined = \", \".join(columns)\n",
    "                placeholders = \", \".join([\"%s\"] * len(values))\n",
    "                insert_query = f\"INSERT INTO {table_name} ({columns_joined}) VALUES ({placeholders});\"\n",
    "                \n",
    "                # Execute the query\n",
    "                cursor.execute(insert_query, values)\n",
    "        \n",
    "        # Commit changes\n",
    "        conn.commit()\n",
    "\n",
    "print(f\"Data from {csv_file} successfully inserted to {table_name} table.\")\n",
    "print(f\"Processed {len(processed_codes)} unique stations and skipped {duplicates} duplicates.\")"
   ]
  }
 ],
 "metadata": {
  "kernelspec": {
   "display_name": "dengue-data-exploration",
   "language": "python",
   "name": "python3"
  },
  "language_info": {
   "codemirror_mode": {
    "name": "ipython",
    "version": 3
   },
   "file_extension": ".py",
   "mimetype": "text/x-python",
   "name": "python",
   "nbconvert_exporter": "python",
   "pygments_lexer": "ipython3",
   "version": "3.11.11"
  }
 },
 "nbformat": 4,
 "nbformat_minor": 2
}
